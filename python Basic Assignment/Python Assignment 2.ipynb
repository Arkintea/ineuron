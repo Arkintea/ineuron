{
 "cells": [
  {
   "cell_type": "markdown",
   "id": "c5a86560",
   "metadata": {},
   "source": [
    "### ASSIGNMENT 4"
   ]
  },
  {
   "cell_type": "markdown",
   "id": "65acb259",
   "metadata": {},
   "source": [
    "#### Qestion 1"
   ]
  },
  {
   "cell_type": "code",
   "execution_count": 181,
   "id": "331f5210",
   "metadata": {},
   "outputs": [],
   "source": [
    "def factorial(number):\n",
    "    factorial = 1\n",
    "    for i in range(1, number+1):\n",
    "        factorial = i * factorial\n",
    "    return factorial"
   ]
  },
  {
   "cell_type": "code",
   "execution_count": 182,
   "id": "6dfc3153",
   "metadata": {
    "scrolled": true
   },
   "outputs": [
    {
     "data": {
      "text/plain": [
       "479001600"
      ]
     },
     "execution_count": 182,
     "metadata": {},
     "output_type": "execute_result"
    }
   ],
   "source": [
    "factorial(12)"
   ]
  },
  {
   "cell_type": "code",
   "execution_count": 183,
   "id": "ad485b67",
   "metadata": {},
   "outputs": [],
   "source": []
  },
  {
   "cell_type": "code",
   "execution_count": null,
   "id": "f7a488e8",
   "metadata": {},
   "outputs": [],
   "source": []
  },
  {
   "cell_type": "markdown",
   "id": "9caaf468",
   "metadata": {},
   "source": [
    "#### Qestion 2"
   ]
  },
  {
   "cell_type": "code",
   "execution_count": 29,
   "id": "dbccd5eb",
   "metadata": {},
   "outputs": [],
   "source": [
    "def multiplication_table(number):\n",
    "    for i in range(1, number):\n",
    "        print(f'{number} x {i} = {i*number}')"
   ]
  },
  {
   "cell_type": "code",
   "execution_count": 30,
   "id": "83f1d1ae",
   "metadata": {},
   "outputs": [
    {
     "name": "stdout",
     "output_type": "stream",
     "text": [
      "10 x 1 = 10\n",
      "10 x 2 = 20\n",
      "10 x 3 = 30\n",
      "10 x 4 = 40\n",
      "10 x 5 = 50\n",
      "10 x 6 = 60\n",
      "10 x 7 = 70\n",
      "10 x 8 = 80\n",
      "10 x 9 = 90\n"
     ]
    }
   ],
   "source": [
    "multiplication_table(10)"
   ]
  },
  {
   "cell_type": "code",
   "execution_count": null,
   "id": "80d042a8",
   "metadata": {},
   "outputs": [],
   "source": []
  },
  {
   "cell_type": "markdown",
   "id": "240dd247",
   "metadata": {},
   "source": [
    "#### Qestion 3"
   ]
  },
  {
   "cell_type": "code",
   "execution_count": 55,
   "id": "f69fd5e1",
   "metadata": {},
   "outputs": [],
   "source": [
    "def fibonaci(number):\n",
    "    a = 1\n",
    "    b = 1\n",
    "    fib = []\n",
    "    for i in range(number):\n",
    "        fib.append(a)\n",
    "        a, b = b, b+a\n",
    "    return fib"
   ]
  },
  {
   "cell_type": "code",
   "execution_count": 57,
   "id": "0a280364",
   "metadata": {},
   "outputs": [
    {
     "data": {
      "text/plain": [
       "[1, 1, 2, 3, 5, 8, 13]"
      ]
     },
     "execution_count": 57,
     "metadata": {},
     "output_type": "execute_result"
    }
   ],
   "source": [
    "fibonaci(7)"
   ]
  },
  {
   "cell_type": "markdown",
   "id": "52f817ca",
   "metadata": {},
   "source": [
    "#### Qestion 4"
   ]
  },
  {
   "cell_type": "code",
   "execution_count": 59,
   "id": "b8fbbbab",
   "metadata": {},
   "outputs": [
    {
     "name": "stdout",
     "output_type": "stream",
     "text": [
      "Enter a number: 407\n",
      "407 is an Armstrong number\n"
     ]
    }
   ],
   "source": [
    "num = int(input(\"Enter a number: \"))\n",
    "\n",
    "# initialize sum\n",
    "sum = 0\n",
    "\n",
    "# find the sum of the cube of each digit\n",
    "temp = num\n",
    "while temp > 0:\n",
    "   digit = temp % 10\n",
    "   sum += digit ** 3\n",
    "   temp //= 10\n",
    "\n",
    "if num == sum:\n",
    "   print(num,\"is an Armstrong number\")\n",
    "else:\n",
    "   print(num,\"is not an Armstrong number\")\n"
   ]
  },
  {
   "cell_type": "code",
   "execution_count": null,
   "id": "ea0c15d4",
   "metadata": {},
   "outputs": [],
   "source": []
  },
  {
   "cell_type": "code",
   "execution_count": null,
   "id": "ac51b732",
   "metadata": {},
   "outputs": [],
   "source": []
  },
  {
   "cell_type": "markdown",
   "id": "23357ff4",
   "metadata": {},
   "source": [
    "#### Qestion 5"
   ]
  },
  {
   "cell_type": "code",
   "execution_count": 121,
   "id": "ee70a716",
   "metadata": {},
   "outputs": [
    {
     "name": "stdout",
     "output_type": "stream",
     "text": [
      "153\n",
      "370\n",
      "371\n",
      "407\n",
      "1634\n"
     ]
    }
   ],
   "source": [
    "lower = 100\n",
    "upper = 2000\n",
    "\n",
    "for num in range(lower, upper + 1):\n",
    "    # order of number\n",
    "    order = len(str(num))\n",
    "    \n",
    "    # initialize sum\n",
    "    sum = 0\n",
    "    \n",
    "    temp = num\n",
    "    while temp > 0:\n",
    "        digit = temp % 10\n",
    "        sum += digit ** order\n",
    "        temp //= 10\n",
    "    \n",
    "    if num == sum:\n",
    "        print(num)"
   ]
  },
  {
   "cell_type": "code",
   "execution_count": null,
   "id": "844c02e4",
   "metadata": {},
   "outputs": [],
   "source": []
  },
  {
   "cell_type": "markdown",
   "id": "9388bbc2",
   "metadata": {},
   "source": [
    "#### Question 6"
   ]
  },
  {
   "cell_type": "code",
   "execution_count": 124,
   "id": "af288c3b",
   "metadata": {},
   "outputs": [],
   "source": [
    "def sum_natural_numbers(number):\n",
    "    return ((number*(number+1)) / 2)"
   ]
  },
  {
   "cell_type": "code",
   "execution_count": 125,
   "id": "de1fd7fb",
   "metadata": {},
   "outputs": [
    {
     "data": {
      "text/plain": [
       "15.0"
      ]
     },
     "execution_count": 125,
     "metadata": {},
     "output_type": "execute_result"
    }
   ],
   "source": [
    "sum_natural_numbers(5)"
   ]
  },
  {
   "cell_type": "markdown",
   "id": "052b1cf9",
   "metadata": {},
   "source": [
    "### ASSIGNMENT 5"
   ]
  },
  {
   "cell_type": "markdown",
   "id": "4bef3af2",
   "metadata": {},
   "source": [
    "#### Qestion 1"
   ]
  },
  {
   "cell_type": "code",
   "execution_count": 138,
   "id": "34684eb9",
   "metadata": {},
   "outputs": [],
   "source": [
    "def compute_lcm(x, y):\n",
    "    if x > y:\n",
    "        greater = x\n",
    "    else:\n",
    "        greater = y\n",
    "    while(True):\n",
    "        if((greater % x == 0) and (greater % y == 0)):\n",
    "            lcm = greater\n",
    "            break\n",
    "        greater += 1\n",
    "    return f'The L.C.M. is, {lcm}'"
   ]
  },
  {
   "cell_type": "code",
   "execution_count": 139,
   "id": "51779912",
   "metadata": {},
   "outputs": [
    {
     "data": {
      "text/plain": [
       "'The L.C.M. is, 56'"
      ]
     },
     "execution_count": 139,
     "metadata": {},
     "output_type": "execute_result"
    }
   ],
   "source": [
    "compute_lcm(8,7)"
   ]
  },
  {
   "cell_type": "code",
   "execution_count": null,
   "id": "c589e2f6",
   "metadata": {},
   "outputs": [],
   "source": []
  },
  {
   "cell_type": "markdown",
   "id": "702d7a23",
   "metadata": {},
   "source": [
    "#### Qestion 2"
   ]
  },
  {
   "cell_type": "code",
   "execution_count": 140,
   "id": "1ad6ca9a",
   "metadata": {},
   "outputs": [],
   "source": [
    "def compute_hcf(x, y):\n",
    "    if x > y:\n",
    "        smaller = y\n",
    "    else:\n",
    "        smaller = x\n",
    "    for i in range(1, smaller+1):\n",
    "        if((x % i == 0) and (y % i == 0)):\n",
    "            hcf = i \n",
    "    return f'The H.C.F. is\", {hcf}'"
   ]
  },
  {
   "cell_type": "code",
   "execution_count": 144,
   "id": "f498ae21",
   "metadata": {},
   "outputs": [
    {
     "data": {
      "text/plain": [
       "'The H.C.F. is\", 6'"
      ]
     },
     "execution_count": 144,
     "metadata": {},
     "output_type": "execute_result"
    }
   ],
   "source": [
    "compute_hcf(54,24)"
   ]
  },
  {
   "cell_type": "markdown",
   "id": "29368670",
   "metadata": {},
   "source": [
    "#### Qestion 3"
   ]
  },
  {
   "cell_type": "code",
   "execution_count": 145,
   "id": "2a5067f7",
   "metadata": {},
   "outputs": [
    {
     "name": "stdout",
     "output_type": "stream",
     "text": [
      "The decimal value of 344 is:\n",
      "0b101011000 in binary.\n",
      "0o530 in octal.\n",
      "0x158 in hexadecimal.\n"
     ]
    }
   ],
   "source": [
    "# Python program to convert decimal into other number systems\n",
    "dec = 344\n",
    "\n",
    "print(\"The decimal value of\", dec, \"is:\")\n",
    "print(bin(dec), \"in binary.\")\n",
    "print(oct(dec), \"in octal.\")\n",
    "print(hex(dec), \"in hexadecimal.\")"
   ]
  },
  {
   "cell_type": "markdown",
   "id": "fe474b40",
   "metadata": {},
   "source": [
    "#### Qestion 4"
   ]
  },
  {
   "cell_type": "code",
   "execution_count": 150,
   "id": "9f4e240e",
   "metadata": {},
   "outputs": [
    {
     "name": "stdout",
     "output_type": "stream",
     "text": [
      "The ASCII value of 'j' is 106\n"
     ]
    }
   ],
   "source": [
    "c = 'j'\n",
    "print(\"The ASCII value of '\" + c + \"' is\", ord(c))\n"
   ]
  },
  {
   "cell_type": "markdown",
   "id": "77085b67",
   "metadata": {},
   "source": [
    "#### Qestion 5"
   ]
  },
  {
   "cell_type": "code",
   "execution_count": 158,
   "id": "c3ce7dfb",
   "metadata": {},
   "outputs": [
    {
     "name": "stdout",
     "output_type": "stream",
     "text": [
      "Operation: 3\n",
      "Number: 4\n",
      "Number: 4\n",
      "Enter a valid operation\n"
     ]
    }
   ],
   "source": [
    "operation = input('Operation: ')\n",
    "a = int(input('Number: '))\n",
    "b = int(input('Number: '))\n",
    "\n",
    "\n",
    "if operation == '+':\n",
    "    print(a + b)\n",
    "elif operation == '-':\n",
    "    print(a - b)\n",
    "elif operation == '/':\n",
    "    print(a / b)\n",
    "elif operation == '*':\n",
    "    print(a * b)\n",
    "else:\n",
    "    print('Enter a valid operation')"
   ]
  },
  {
   "cell_type": "code",
   "execution_count": 25,
   "id": "a3b0fe87",
   "metadata": {},
   "outputs": [],
   "source": []
  },
  {
   "cell_type": "markdown",
   "id": "e8e08676",
   "metadata": {},
   "source": [
    "### ASSIGNMENT 6"
   ]
  },
  {
   "cell_type": "markdown",
   "id": "f02c3946",
   "metadata": {},
   "source": [
    "#### Qestion 1"
   ]
  },
  {
   "cell_type": "code",
   "execution_count": 185,
   "id": "99af703c",
   "metadata": {},
   "outputs": [],
   "source": [
    "def factorial(number):\n",
    "    if number < 2:\n",
    "        return 1\n",
    "    else:\n",
    "        return number * factorial(number-1)"
   ]
  },
  {
   "cell_type": "code",
   "execution_count": 187,
   "id": "f64f7190",
   "metadata": {},
   "outputs": [
    {
     "data": {
      "text/plain": [
       "120"
      ]
     },
     "execution_count": 187,
     "metadata": {},
     "output_type": "execute_result"
    }
   ],
   "source": [
    "factorial(5)"
   ]
  },
  {
   "cell_type": "code",
   "execution_count": null,
   "id": "c8a64837",
   "metadata": {},
   "outputs": [],
   "source": [
    "\n",
    "nterms = 10\n",
    "if nterms <= 0:\n",
    "    print(\"Plese enter a positive integer\")\n",
    "else:\n",
    "    print(\"Fibonacci sequence:\")\n",
    "    for i in range(nterms):\n",
    "        print(recur_fibo(i))"
   ]
  },
  {
   "cell_type": "markdown",
   "id": "56a26d44",
   "metadata": {},
   "source": [
    "#### Qestion 2"
   ]
  },
  {
   "cell_type": "code",
   "execution_count": 171,
   "id": "9d05fb18",
   "metadata": {},
   "outputs": [],
   "source": [
    "def factorial(n):\n",
    "    if n == 0:\n",
    "        return 1\n",
    "    return n * factorial(n-1)"
   ]
  },
  {
   "cell_type": "code",
   "execution_count": 172,
   "id": "be8c2bfc",
   "metadata": {},
   "outputs": [
    {
     "data": {
      "text/plain": [
       "120"
      ]
     },
     "execution_count": 172,
     "metadata": {},
     "output_type": "execute_result"
    }
   ],
   "source": [
    "factorial(5)"
   ]
  },
  {
   "cell_type": "code",
   "execution_count": null,
   "id": "e50261cf",
   "metadata": {},
   "outputs": [],
   "source": []
  },
  {
   "cell_type": "markdown",
   "id": "d95fce7f",
   "metadata": {},
   "source": [
    "#### Qestion 3"
   ]
  },
  {
   "cell_type": "code",
   "execution_count": 164,
   "id": "0e4e2bea",
   "metadata": {},
   "outputs": [],
   "source": [
    "def bmi(weight_kg, height_m):\n",
    "    return weight_kg/(height_m**2)"
   ]
  },
  {
   "cell_type": "code",
   "execution_count": 167,
   "id": "a8cee91e",
   "metadata": {},
   "outputs": [
    {
     "data": {
      "text/plain": [
       "27.776910832995224"
      ]
     },
     "execution_count": 167,
     "metadata": {},
     "output_type": "execute_result"
    }
   ],
   "source": [
    "bmi(89, 1.79)"
   ]
  },
  {
   "cell_type": "markdown",
   "id": "d9b104dc",
   "metadata": {},
   "source": [
    "#### Qestion 4"
   ]
  },
  {
   "cell_type": "code",
   "execution_count": 168,
   "id": "5fe52103",
   "metadata": {},
   "outputs": [
    {
     "name": "stdout",
     "output_type": "stream",
     "text": [
      "Enter the number: 7\n",
      "The value is: 1.9459101490553132\n"
     ]
    }
   ],
   "source": [
    "import math\n",
    "\n",
    "number = int(input(\"Enter the number: \"))\n",
    "ans = math.log(number)\n",
    "print(\"The value is:\",ans)"
   ]
  },
  {
   "cell_type": "code",
   "execution_count": null,
   "id": "a7a58830",
   "metadata": {},
   "outputs": [],
   "source": []
  },
  {
   "cell_type": "markdown",
   "id": "64806572",
   "metadata": {},
   "source": [
    "#### Qestion 5"
   ]
  },
  {
   "cell_type": "code",
   "execution_count": 169,
   "id": "663c32f1",
   "metadata": {},
   "outputs": [],
   "source": [
    "def sumOfSeries(n):\n",
    "    sum = 0\n",
    "    for i in range(1, n+1):\n",
    "        sum +=i*i*i\n",
    "    return sum"
   ]
  },
  {
   "cell_type": "code",
   "execution_count": 170,
   "id": "919ef4e7",
   "metadata": {},
   "outputs": [
    {
     "data": {
      "text/plain": [
       "225"
      ]
     },
     "execution_count": 170,
     "metadata": {},
     "output_type": "execute_result"
    }
   ],
   "source": [
    "sumOfSeries(5)"
   ]
  },
  {
   "cell_type": "code",
   "execution_count": null,
   "id": "a6252ea4",
   "metadata": {},
   "outputs": [],
   "source": []
  }
 ],
 "metadata": {
  "kernelspec": {
   "display_name": "Python 3",
   "language": "python",
   "name": "python3"
  },
  "language_info": {
   "codemirror_mode": {
    "name": "ipython",
    "version": 3
   },
   "file_extension": ".py",
   "mimetype": "text/x-python",
   "name": "python",
   "nbconvert_exporter": "python",
   "pygments_lexer": "ipython3",
   "version": "3.8.8"
  }
 },
 "nbformat": 4,
 "nbformat_minor": 5
}
