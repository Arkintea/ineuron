{
 "cells": [
  {
   "cell_type": "markdown",
   "id": "3befd5ae",
   "metadata": {},
   "source": [
    "### 1. What is the GCP project quota? If necessary, how GCP quota can be increased?"
   ]
  },
  {
   "cell_type": "markdown",
   "id": "427969e9",
   "metadata": {},
   "source": [
    "GCP project quotas protect the Google Cloud Community from unforeseen spikes in usage. However, as the usage of Google Cloud Platform increases, an increase in your quota is requested.\n",
    "\n",
    "When Google Cloud allocates resources to customers,  a variety of factors is considered, including resources that most \n",
    "legitimate customers use, customer’s previous usage and history with Google Cloud, and previous abuse penalties. \n",
    "Customers might have different quota based on these."
   ]
  },
  {
   "cell_type": "markdown",
   "id": "04c7e399",
   "metadata": {},
   "source": [
    "If there is an attempt to exceed project limit, the console will prompt you to fill out a request form. This happens when \n",
    "you try to create a project but you have already reached your quota. The form will require you to specify the number of \n",
    "additional projects you need, along with their corresponding email accounts, billing accounts, and intended uses.\n",
    "\n",
    "Note that payment is required in order to increase your quota."
   ]
  },
  {
   "cell_type": "markdown",
   "id": "1d2e3beb",
   "metadata": {},
   "source": [
    "### 2. What is the definition of a virtual machine? Virtual machine types are offered in GCP. How to create a virtual computer in Google Cloud Platform."
   ]
  },
  {
   "cell_type": "markdown",
   "id": "c771f871",
   "metadata": {},
   "source": [
    "A virtual machine, commonly shortened to just VM, is no different than any other physical computer like a laptop, smart \n",
    "phone, or server. It has a CPU, memory, disks to store your files, and can connect to the internet if needed. While the \n",
    "parts that make up your computer (called hardware) are physical and tangible, VMs are often thought of as virtual computers\n",
    "or software-defined computers within physical servers, existing only as code\n",
    "\n",
    "It is a compute resource that uses software instead of a physical computer to run programs and deploy apps. One or more \n",
    "virtual “guest” machines run on a physical “host” machine.  Each virtual machine runs its own operating system and \n",
    "functions separately from the other VMs, even when they are all running on the same host. This means that, for example, \n",
    "a virtual MacOS virtual machine can run on a physical PC. \n",
    "\n",
    "The virtual machine runs as a process in an application window, similar to any other application, on the operating system \n",
    "of the physical machine. Key files that make up a virtual machine include a log file, NVRAM setting file, virtual disk \n",
    "file and configuration file. "
   ]
  },
  {
   "cell_type": "markdown",
   "id": "c96f8632",
   "metadata": {},
   "source": [
    "General-purpose machine type family<br>\n",
    "E2 machine types<br>\n",
    "N2 machine types<br>\n",
    "N2D machine types<br>\n",
    "Tau T2D machine types<br>\n",
    "N1 machine types<br>\n",
    "<br>\n",
    "Compute-optimized machine type family<br>\n",
    "C2 machine types<br>\n",
    "<br>\n",
    "Memory-optimized machine type family<br>\n",
    "M2 machine types<br>\n",
    "M1 machine types<br>\n",
    "<br>\n",
    "Accelerator-optimized machine type family<br>\n",
    "A2 standard machine types<br>"
   ]
  },
  {
   "cell_type": "markdown",
   "id": "e40469d6",
   "metadata": {},
   "source": [
    "Creating Virtual Machine Using Google Cloud Console<br>\n",
    "<br>\n",
    "1. login to your Google cloud console and create a new project with any name you want\n",
    "2. Click menu icon on the top left of the screen\n",
    "3. navigate to Compute engine and VM instances and Click on create \n",
    "4. specify the name of the instance that you want to create\n",
    "5. Specify the zone in which you want to create this instance. \n",
    "6. Select the machine type that you want to use for your instance (optional)\n",
    "7. Choose the boot disk that you want to use to boot this virtual machine from (optional)\n",
    "8. select the service account which will be used by this instance\n",
    "9. using tags apply firewall rules\n",
    "10. click on create\n"
   ]
  },
  {
   "cell_type": "markdown",
   "id": "4be98a03",
   "metadata": {},
   "source": [
    "### 3. What is Google Big Query, and how does it work? Replicate certain instances to demonstrate a use case."
   ]
  },
  {
   "cell_type": "markdown",
   "id": "faf2a722",
   "metadata": {},
   "source": [
    "BigQuery is Google Cloud's fully managed, petabyte-scale, and cost-effective analytics data warehouse that lets you run analytics over vast amounts of data in near real time. With BigQuery, there's no infrastructure to set up or manage, letting you focus on finding meaningful insights using standard SQL and taking advantage of flexible pricing models across on-demand and flat-rate options."
   ]
  },
  {
   "cell_type": "markdown",
   "id": "5ac7071d",
   "metadata": {},
   "source": [
    " "
   ]
  },
  {
   "cell_type": "markdown",
   "id": "3aa78087",
   "metadata": {},
   "source": [
    "Google BigQuery is a cloud-based, fully managed, serverless enterprise data warehouse that supports analytics over petabyte-scale data. It delivers high-speed analysis of large datasets without requiring investments in onsite infrastructure or database administrators.\n",
    "\n",
    "The most impressive and unique feature BigQuery has is its ability to scale up and down depending on the need of each query, it will add and remove computing power as well as storage resources as required. This is how BigQuery can run queries on terabytes of data in seconds.\n",
    "\n",
    "Let us take a step back and define what a query exactly is.\n",
    "\n",
    "A query is simply a question. When one types a search term or terms into Google they are running a “search query” the keywords are sent to the search engine and are processed using an algorithm that retrieves related results from the search index.\n",
    "\n",
    "The results of the query appear on a search engine results page.\n",
    "\n",
    "When it comes to BigQuery one would run a database query, the database stores data in a structured format.\n",
    "\n",
    "When one runs their query they are essentially doing the same as when they type in search terms in Google, the query runs scouring the structured data finding what is needed and returning it in the form of pictorials, graphs or complex data manipulations.\n",
    "\n",
    "Google BigQuery is a part of the Google Cloud Platform and works in harmony, but both are not required for the other. BigQuery is designed to help expedite the analysis of big data. While ultimately eliminating storage as well as overhead costs."
   ]
  },
  {
   "cell_type": "markdown",
   "id": "2d4c4a16",
   "metadata": {},
   "source": [
    " "
   ]
  },
  {
   "cell_type": "markdown",
   "id": "b3bd1807",
   "metadata": {},
   "source": [
    "### 4. What exactly is the Google Cloud SDK? List the numerous Google cloud SDK installation options."
   ]
  },
  {
   "cell_type": "markdown",
   "id": "ec1d0b5e",
   "metadata": {},
   "source": [
    "Google Cloud SDK (Software Development Kit), in simple terms, is a set of tools that are used to manage applications and resources that are hosted on the Google Cloud Platform.\n",
    "\n",
    "It is composed of the gsutil, gcloud, and bqcommand line tools. The gcloudtool is automatically downloaded with the Cloud SDK."
   ]
  },
  {
   "cell_type": "markdown",
   "id": "a34df7cb",
   "metadata": {},
   "source": [
    "<br>"
   ]
  },
  {
   "cell_type": "markdown",
   "id": "a05f2aff",
   "metadata": {},
   "source": [
    "There are four different ways for the installation of the Google Cloud SDK. Based on need, the user will choose any of the following to install Google Cloud Software Development Kit.\n",
    "\n",
    "1. Using Cloud SDK with scripts or continuous integration or continuous deployment – during this case, the user will install google cloud SDK by downloading a versioned archive for a non-interactive installation of a specific version of Cloud SDK.\n",
    "\n",
    "2. By running Red Hat Enterprise Linux 7/CentOS 7 – YUM is used to get the latest released version of the Google Cloud SDK in the package format.\n",
    "\n",
    "3. Through running Ubuntu/Debian – APT-GET is employed to get the most recent free version of the Google Cloud SDK in the package format.\n",
    "\n",
    "4. For all the other use cases, the user will run the interactive installer to install the latest version of the Google Cloud SDK."
   ]
  },
  {
   "cell_type": "markdown",
   "id": "4b187ce1",
   "metadata": {},
   "source": [
    "### 5. List the many cloud computing deployment models."
   ]
  },
  {
   "cell_type": "markdown",
   "id": "0184c434",
   "metadata": {},
   "source": [
    "1. Public Cloud (Services are accessible for public usage e.g Azure, AWS, GCP, etc...)<br>\n",
    "The public cloud makes it possible for anybody to access systems and services. The public cloud may be less secure as it \n",
    "is open for everyone. The public cloud is one in which cloud infrastructure services are provided over the internet to the\n",
    "general people or major industry groups. The infrastructure in this cloud model is owned by the entity that delivers the \n",
    "cloud services, not by the consumer. It is a type of cloud hosting that allows customers and users to easily access systems\n",
    "and services. This form of cloud computing is an excellent example of cloud hosting, in which service providers supply \n",
    "services to a variety of customers. In this arrangement, storage backup and retrieval services are given for free, as a \n",
    "subscription, or on a per-use basis. Example: Google App Engine etc.\n",
    "<br>\n",
    "Advantages of the public cloud model:<br>\n",
    "Minimal Investment: Because it is a pay-per-use service, there is no substantial upfront fee, making it excellent for\n",
    "enterprises that require immediate access to resources.\n",
    "No setup cost: The entire infrastructure is fully subsidized by the cloud service providers, thus there is no need to set\n",
    "up any hardware.\n",
    "Infrastructure Management is not required: Using the public cloud does not necessitate infrastructure management.\n",
    "No maintenance: The maintenance work is done by the service provider (Not users).\n",
    "Dynamic Scalability: To fulfill your company’s needs, on-demand resources are accessible. <br>\n",
    "<br>\n",
    "2. Private Cloud (Services is only accessible to an organisation)<br>\n",
    "The private cloud deployment model is the exact opposite of the public cloud deployment model. It’s a one-on-one \n",
    "environment for a single user (customer). There is no need to share your hardware with anyone else. The distinction \n",
    "between private and public cloud is in how you handle all of the hardware. It is also called the “internal cloud” & \n",
    "it refers to the ability to access systems and services within a given border or organization. The cloud platform is \n",
    "implemented in a cloud-based secure environment that is protected by powerful firewalls and under the supervision of \n",
    "an organization’s IT department. The private cloud gives the greater flexibility of control over cloud resources.\n",
    "<br>\n",
    "Advantages of the private cloud model:<br>\n",
    "Better Control: You are the sole owner of the property. You gain complete command over service integration, IT operations,\n",
    "policies, and user behavior. \n",
    "Data Security and Privacy: It’s suitable for storing corporate information to which only authorized staff have access. \n",
    "By segmenting resources within the same infrastructure, improved access and security can be achieved.\n",
    "Supports Legacy Systems: This approach is designed to work with legacy systems that are unable to access the public \n",
    "cloud. \n",
    "Customization: Unlike a public cloud deployment, a private cloud allows a company to tailor its solution to meet its \n",
    "specific needs.<br>\n",
    "<br>\n",
    "3.  Hybrid cloud (It's a combination of various clouds)<br>\n",
    "By bridging the public and private worlds with a layer of proprietary software, hybrid cloud computing gives the best \n",
    "of both worlds. With a hybrid solution, you may host the app in a safe environment while taking advantage of the public \n",
    "cloud’s cost savings. Organizations can move data and applications between different clouds using a combination of two \n",
    "or more cloud deployment methods, depending on their needs. <br>\n",
    "<br>\n",
    "Advantages of the hybrid cloud model:<br>\n",
    "Flexibility and control: Businesses with more flexibility can design personalized solutions that meet their particular \n",
    "needs.\n",
    "Cost: Because public clouds provide for scalability, you’ll only be responsible for paying for the extra capacity if \n",
    "you require it.\n",
    "Security: Because data is properly separated, the chances of data theft by attackers are considerably reduced. <br>\n",
    "<br>\n",
    "4. Community cloud (Here services are available as a community)<br>\n",
    "It allows systems and services to be accessible by a group of organizations. It is a distributed system that is created\n",
    "by integrating the services of different clouds to address the specific needs of a community, industry, or business. The \n",
    "infrastructure of the community could be shared between the organization which has shared concerns or tasks. It is \n",
    "generally managed by a third party or by the combination of one or more organizations in the community.<br> \n",
    "<br>\n",
    "Advantages of the community cloud model:<br>\n",
    "Cost Effective: It is cost-effective because the cloud is shared by multiple organizations or communities.\n",
    "Security: Community cloud provides better security.\n",
    "Shared resources: It allows you to share resources, infrastructure, etc. with multiple organizations.\n",
    "Collaboration and data sharing: It is suitable for both collaboration and data sharing.<br>\n",
    "<br>\n",
    "5. Multi-cloud <br>\n",
    "We’re talking about employing multiple cloud providers at the same time under this paradigm, as the name implies. It’s \n",
    "similar to the hybrid cloud deployment approach, which combines public and private cloud resources. Instead of merging \n",
    "private and public clouds, multi-cloud uses many public clouds. Although public cloud providers provide numerous tools \n",
    "to improve the reliability of their services, mishaps still occur. It’s quite rare that two distinct clouds would have \n",
    "an incident at the same moment. As a result, multi-cloud deployment improves the high availability of your services even \n",
    "more. <br>\n",
    "<br>\n",
    "Advantages of a multi-cloud model:<br>\n",
    "You can mix and match the best features of each cloud provider’s services to suit the demands of your apps, workloads, \n",
    "and business by choosing different cloud providers. \n",
    "Reduced Latency: To reduce latency and improve user experience, you can choose cloud regions and zones that are close \n",
    "to your clients. \n",
    "High availability of service: It’s quite rare that two distinct clouds would have an incident at the same moment. So, \n",
    "the multi-cloud deployment improves the high availability of your services. "
   ]
  },
  {
   "cell_type": "markdown",
   "id": "12f48d67",
   "metadata": {},
   "source": [
    "### 6. Describe the Google cloud platform's security features."
   ]
  },
  {
   "cell_type": "markdown",
   "id": "9cd7e1c9",
   "metadata": {},
   "source": [
    "Google Cloud KMS\n",
    "Google Cloud Key Management Service (KMS) lets you manage cryptographic keys. You can use Google’s KMS to create, rotate \n",
    "and destroy several types of cryptographic keys, including AES256, RSA 3072, RSA 2048, RSA 4096, EC P384, and EC P256. \n",
    "You can either manually rotate keys or opt to automate the process.\n",
    "\n",
    "Google Cloud IAM\n",
    "Google provides an identity and access management (IAM) service that provides you with granular access control. \n",
    "You can use IAM to specify which users or groups can gain access to cloud resources. You can assign roles, including \n",
    "primitive, predefined, and custom. Google’s IAM automatically creates audit trails of permission authorizations and \n",
    "deletions. Identity & Access Management (IAM) service for defining policies based on role-based access control.\n",
    "\n",
    "Google Cloud Identity\n",
    "Google Cloud Identity lets you manage the security of your cloud applications and devices. You can access the service \n",
    "through the Google Admin Console. You can also use Cloud Identity to enable multi factor authentication and single sign-on\n",
    "authentication.\n",
    "\n",
    "Stackdriver Logging\n",
    "Google Stackdriver is a monitoring service designed for hybrid clouds. It provides various capabilities, including \n",
    "Stackdriver Logging, which is a managed service that lets you manage and analyze log data. Stackdriver Logging comes \n",
    "with its own API and can ingest data from custom logs. You can use Stackdriver logs for your security monitoring and \n",
    "management efforts.\n",
    "\n",
    "Google Access Transparency\n",
    "Google Access Transparency lets you view near-real-time log data, which indicates why and when Google’s internal IT \n",
    "staff accessed their environment. Typically, the IT staff accesses the environment when responding to support requests \n",
    "or when trying to recover from an outage. You can integrate this service with Stackdriver Logging.\n",
    "\n",
    "Google Cloud Security Scanner\n",
    "The Google Cloud Security Scanner service can detect vulnerabilities in Google Kubernetes Engine (GKE), Google Compute \n",
    "Engine (GCE), and Google App Engine (GAE). Cloud Security Scanner lets you create, schedule, run and manage scans via \n",
    "the GCP console. The scanner can detect many vulnerabilities, such as Flash injection, cross-site scripting (XSS), and \n",
    "mixed content, as well as outdated or insecure JavaScript (JS) libraries.\n",
    "\n",
    "Google Cloud Resource Manager\n",
    "The Resource Manager lets you manage and organize your Google cloud resources. You can use the service to manage access \n",
    "controls and IAM policies across multiple groups of resources, which are sorted as organizations, folders, or projects.\n",
    "\n",
    "Google Cloud Compliance\n",
    "Google provides a wide range of resources and services you can use to maintain compliance in your global and regional \n",
    "resources. For more information see Google’s Cloud Compliance Resource Center. You can use Google Anthos to enforce \n",
    "compliance and security policies across your cloud environment. Additionally, GCP supports integration with third-party \n",
    "services."
   ]
  },
  {
   "cell_type": "markdown",
   "id": "4ec8fce7",
   "metadata": {},
   "source": [
    "### 7. What exactly is vertex AI? With some usage scenarios, implement vertex AI."
   ]
  },
  {
   "cell_type": "markdown",
   "id": "b7a59aaf",
   "metadata": {},
   "source": [
    "Vertex AI is a managed machine learning platform that provides you all Google’s cloud services in one place to deploy and maintain AI models.\n",
    "\n",
    "Vertex AI brings AutoML and AI Platform together into a unified API, client library, and user interface. With Vertex AI, both AutoML training and custom training are available options. Whichever option you choose for training, you can save models, deploy models and request predictions with Vertex AI. "
   ]
  },
  {
   "cell_type": "code",
   "execution_count": null,
   "id": "1b0cfa21",
   "metadata": {},
   "outputs": [],
   "source": []
  },
  {
   "cell_type": "code",
   "execution_count": null,
   "id": "7ce50863",
   "metadata": {},
   "outputs": [],
   "source": []
  }
 ],
 "metadata": {
  "kernelspec": {
   "display_name": "Python 3",
   "language": "python",
   "name": "python3"
  },
  "language_info": {
   "codemirror_mode": {
    "name": "ipython",
    "version": 3
   },
   "file_extension": ".py",
   "mimetype": "text/x-python",
   "name": "python",
   "nbconvert_exporter": "python",
   "pygments_lexer": "ipython3",
   "version": "3.8.8"
  }
 },
 "nbformat": 4,
 "nbformat_minor": 5
}
