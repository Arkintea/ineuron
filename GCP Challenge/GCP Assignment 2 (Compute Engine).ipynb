{
 "cells": [
  {
   "cell_type": "markdown",
   "id": "abbb0bb2",
   "metadata": {},
   "source": [
    "### 1. What is cloud computing, and how does it work?"
   ]
  },
  {
   "cell_type": "markdown",
   "id": "6ced0893",
   "metadata": {},
   "source": [
    "Cloud computing is an application-based software infrastructure that stores data on remote servers, which can be accessed \n",
    "through the internet. It is an innovation in technology that utilizes remote servers on the web called cloud server to \n",
    "store, manage, and access information online rather than local drivers. The information or data can be anything like \n",
    "records, images, reports, files, video, and many more. Cloud computing includes the development platform, hard disk, \n",
    "programming application, software apps and information base. This is a virtualization-based innovation or technology \n",
    "that allows us to make, arrange, configure and modify/customize applications using web or internet. This is achieved \n",
    "to reduce the IT infrastructure cost."
   ]
  },
  {
   "cell_type": "markdown",
   "id": "001de6f3",
   "metadata": {},
   "source": [
    "**How cloud computing work**\n",
    "\n",
    "Cloud computing uses a software, middleware, to ensure seamless connectivity between devices/computers linked via cloud\n",
    "computing. Cloud computing service providers usually maintain multiple copies of the data to mitigate instances of \n",
    "security threats, data loss, data breach, etc. \n",
    "\n",
    "The cloud computing id divided into two, the front end and the back end. The front end is the side where clients access\n",
    "the Internet for data. This includes computers, computer networks, applications, and all means for clients to access \n",
    "the cloud computing system. The back end consists of all things needed for cloud computing services. This is the side of\n",
    "the cloud computing provider. This includes servers, computers, data storage systems, programs, and all necessary means \n",
    "to provide different cloud computing services. What connects the front end and the back end is the network.The Internet \n",
    "is the network. It acts as the connection between clients and the cloud."
   ]
  },
  {
   "cell_type": "markdown",
   "id": "a3e40d94",
   "metadata": {},
   "source": [
    "### 2. List all of the GCP deployment services available."
   ]
  },
  {
   "cell_type": "markdown",
   "id": "9092c479",
   "metadata": {},
   "source": [
    "1. Google Cloud<br>\n",
    "2. Google Cloud Functions<br>\n",
    "3. Google App Engine<br>\n",
    "4. Google Cloud Run<br>\n",
    "5. Google Kubernetes Engine<br>\n",
    "6. Google Container Engine<br>\n",
    "7. Google Compute Engine<br>"
   ]
  },
  {
   "cell_type": "markdown",
   "id": "dfbd5af9",
   "metadata": {},
   "source": [
    "### 3. What is the GCP pub-sub with examples?"
   ]
  },
  {
   "cell_type": "markdown",
   "id": "8dc85df8",
   "metadata": {},
   "source": [
    "Google Cloud Pub/Sub is a messaging service for exchanging event data among applications and services. By decoupling \n",
    "senders and receivers, it allows for secure and highly available communication between independently written applications.\n",
    "Google Cloud Pub/Sub delivers low-latency/durable messaging, and is commonly used by developers in implementing \n",
    "asynchronous workflows, distributing event notifications, and streaming data from various processes or devices.\n",
    "\n",
    "Pub/Sub enables you to create systems of event producers and consumers, called publishers and subscribers. Publishers \n",
    "communicate with subscribers asynchronously by broadcasting events, rather than by synchronous remote procedure calls (RPCs).\n",
    "Publishers send events to the Pub/Sub service, without regard to how or when these events are to be processed. Pub/Sub \n",
    "then delivers events to all services that need to react to them. Compared to systems communicating through RPCs, where \n",
    "publishers must wait for subscribers to receive the data, such asynchronous integration increases the flexibility and \n",
    "robustness of the overall system."
   ]
  },
  {
   "cell_type": "markdown",
   "id": "50fa82af",
   "metadata": {},
   "source": [
    "**Common use cases**\n",
    "\n",
    "1. Ingestion user interaction and server events<br>\n",
    "To make use of user interaction events from end-user apps or server events from your system, you may forward them to \n",
    "Pub/Sub and then use a stream processing tool (such as Dataflow) which delivers them to BigQuery, Bigtable, Cloud \n",
    "Storage and other databases. Pub/Sub allows you to gather events from many clients simultaneously.\n",
    "\n",
    "2. Real-time event distribution<br>\n",
    "Events, raw or processed, may be made available to multiple applications across your team and organization for real \n",
    "time processing. This supports an \"enterprise event bus\" and event-driven application design patterns. Pub/Sub allows \n",
    "you to integrate with many Google systems that export events to Pub/Sub.\n",
    "\n",
    "3. Replicating data among databases<br> \n",
    "Pub/Sub is commonly used to distribute change events from databases. These events can be used to construct a view of the\n",
    "database state and state history in BigQuery and other data storage systems.\n",
    "\n",
    "4. Parallel processing and workflows<br>\n",
    "You can efficiently distribute a large number of tasks among multiple workers such as compressing text files, sending \n",
    "email notifications, evaluating AI models, or reformatting images--by using Pub/Sub messages to connect to Cloud Functions.\n",
    "\n",
    "5. Enterprise event bus<br>\n",
    "You can create an enterprise-wide real-time data sharing bus, distributing business events, database updates, and \n",
    "analytics events across your organization.\n",
    "\n",
    "6. Data streaming from applications, services, or IoT devices<br>\n",
    "For example, a SaaS application can publish a real-time feed of events or a residential sensor can stream data to \n",
    "Pub/Sub for use in other Google Cloud products through a Dataflow.\n",
    "\n",
    "7. Refreshing distributed caches<br>\n",
    "For example, an application can publish invalidation events to update the IDs of objects that have changed.\n",
    "\n",
    "8. Load balancing for reliability<br>\n",
    "For example, instances of a service may be deployed on Compute Engine in multiple zones but subscribe to a common topic.\n",
    "When the service fails in any zone, the others can pick up the load automatically."
   ]
  },
  {
   "cell_type": "markdown",
   "id": "ad3efe59",
   "metadata": {},
   "source": [
    "### 4. Make a script to manage files stored on Google Drive."
   ]
  },
  {
   "cell_type": "code",
   "execution_count": null,
   "id": "c4612311",
   "metadata": {},
   "outputs": [],
   "source": [
    "#Connecting to Google Drive\n",
    "from pydrive.auth import GoogleAuth\n",
    "from pydrive.drive import GoogleDrive\n",
    "\n",
    "gauth = GoogleAuth()\n",
    "gauth.LocalWebserverAuth() # client_secrets.json need to be in the same directory as the script\n",
    "drive = GoogleDrive(gauth)"
   ]
  },
  {
   "cell_type": "code",
   "execution_count": null,
   "id": "4ed4a356",
   "metadata": {},
   "outputs": [],
   "source": [
    "#Listing and uploading file in Google Drive\n",
    "\n",
    "# View all folders and file in your Google Drive\n",
    "fileList = drive.ListFile({'q': \"'root' in parents and trashed=false\"}).GetList()\n",
    "for file in fileList:\n",
    "  print('Title: %s, ID: %s' % (file['title'], file['id']))\n",
    "  # Get the folder ID that you want\n",
    "  if(file['title'] == \"To Share\"):\n",
    "      fileID = file['id']\n",
    "\n",
    "file1 = drive.CreateFile({\"mimeType\": \"text/csv\", \"parents\": [{\"kind\": \"drive#fileLink\", \"id\": fileID}]})\n",
    "file1.SetContentFile(\"small_file.csv\")\n",
    "file1.Upload() # Upload the file.\n",
    "print('Created file %s with mimeType %s' % (file1['title'], file1['mimeType'])) "
   ]
  },
  {
   "cell_type": "code",
   "execution_count": null,
   "id": "e78b6cb8",
   "metadata": {},
   "outputs": [],
   "source": [
    "#Accessing files in folders\n",
    "fileList = drive.ListFile({'q': \"'2mavWSQhVfr7GnX2JHa45Qd43bTaYCHXE' in parents and trashed=false\"}).GetList()\n",
    "for file in fileList:\n",
    "  print('Title: %s, ID: %s' % (file['title'], file['id']))\n",
    "   # Get the folder ID that you want\n",
    "  if(file['title'] == \"picture\"):\n",
    "      fileID = file['id']\n",
    "  \n",
    "# Initialize GoogleDriveFile instance with file id.\n",
    "file2 = drive.CreateFile({'id': fileID})\n",
    "file2.Trash()  # Move file to trash.\n",
    "file2.UnTrash()  # Move file out of trash.\n",
    "file2.Delete()  # Permanently delete the file."
   ]
  },
  {
   "cell_type": "markdown",
   "id": "1ca68ac1",
   "metadata": {},
   "source": [
    "### 5. Explain how Google's cloud billing system works?"
   ]
  },
  {
   "cell_type": "markdown",
   "id": "3b364360",
   "metadata": {},
   "source": [
    "A Cloud Billing account defines who pays for a given set of Google Cloud resources. To use Google Cloud services, you \n",
    "must have a valid Cloud Billing account, and must link it to your Google Cloud projects. Your project's Google Cloud \n",
    "usage is charged to the linked Cloud Billing account."
   ]
  },
  {
   "cell_type": "markdown",
   "id": "d7f1f332",
   "metadata": {},
   "source": [
    "Google cloud billing refers to the billing system available on Google Cloud Platform(GCP). It has its various utilities \n",
    "and can be configured in a variety of ways to meet different needs. The core concepts of Google Cloud Billing include:-\n",
    "<br>\n",
    "1. Resources<br>\n",
    "The fundamental concepts for the GCP platform consist of Compute Engine VM’s, Google cloud pub/subs, Google cloud storage,\n",
    "etc, and so on. The billing & access control resources are allocated at the lowest levels of hierarchy in order to set up\n",
    "projects and perform tasks underneath the various projects being set up on the Google Cloud Platform(GCP) console.\n",
    "<br>\n",
    "2. Projects<br>\n",
    "The middle layer in the hierarchy of resources belongs to projects where they are made responsible/parent for the lower \n",
    "level resources. The management of the available resources in the lower levels fall under the various Projects and any \n",
    "allocation & changes made fall directly under the parent itself. We can use projects to represent any team, environments\n",
    "& collections which map to a business function or structure.\n",
    "<br>\n",
    "3. Organisation<br>\n",
    "The organization represents the top level in the hierarchy of resources. All resources belonging to an organization are \n",
    "always grouped under the organization node to which provide insight, analysis and access control over the resources in \n",
    "the organization.\n",
    "<br>\n",
    "The Google Cloud Billing System is structured into a Billing account which establishes control by designating Cloud \n",
    "Platform Identity and Access Management(IAM) roles. The billing account is also used to define who pays for the given \n",
    "set of resources. A billing account can be linked to one or more projects where the projected usage is charged to the \n",
    "relevant billing account.\n",
    "<br>\n",
    "Generally, there are two types of billing accounts:<br>\n",
    "- Self Served- In Self-served billing accounts, the credit cards are attached to the account and are the preferred \n",
    "payment instrument where costs are automatically charged.\n",
    "<br>\n",
    "- Invoiced- Here, the preferred payment instrument can be a check or wire transfer where invoices are sent via mail or \n",
    "electronically.\n",
    "<br>\n",
    "4. Charging cycle<br>\n",
    "Costs for specific resources  are charged into the respective billing accounts  automatically in either of two ways :\n",
    "Monthly Billing- Costs are charged on a monthly basis.\n",
    "Threshold Billing- Costs are charged only when a specific amount is reached"
   ]
  },
  {
   "cell_type": "markdown",
   "id": "fe46ec00",
   "metadata": {},
   "source": [
    "The Google Cloud Platform offers pricing based on four principles: <br>\n",
    "1. No upfront costs: <br>\n",
    "users are never required to make an upfront investment to use any GCP services.<br>\n",
    "2. Pay as you go across compute, storage, and data transfer: <br>\n",
    "Google only charges for resources actually used, allowing users to scale up and down flexibly.<br>\n",
    "3. No termination fees:<br>\n",
    "users can always scale down or shut off services without incurring any additional cost.<br>\n",
    "4. Free tier:<br>\n",
    "Google offers a 12-month Free Trial with $300 of credit for all its cloud services. There is also an Always Free Tier \n",
    "which provides the major GCP services for free, with limits on usage. Some of the services included in the free tier \n",
    "and their limits are shown below."
   ]
  },
  {
   "cell_type": "markdown",
   "id": "09dec87b",
   "metadata": {},
   "source": [
    "### 6. What are the different parts of the Google Cloud Platform?"
   ]
  },
  {
   "cell_type": "markdown",
   "id": "a1f0f2c0",
   "metadata": {},
   "source": [
    "Several components and services are an important feature of Google Cloud Platform;\n",
    "\n",
    "1. Compute<br>\n",
    "The compute service enables compute and hosting the cloud. The various services under this are as follows:<br>\n",
    "App Engine<br>\n",
    "Compute Engine<br>\n",
    "Kubernetes Engine<br> \n",
    "Cloud Functions<br>\n",
    "Cloud Run<br>\n",
    "<br>\n",
    "2. Storage and Database<br>\n",
    "The storage and database service enables the application to store media files, backups, or other file-like objects. <br>\n",
    "The services include:<br>\n",
    "Cloud Storage<br>\n",
    "Cloud SQL <br>\n",
    "Cloud Bigtable<br> \n",
    "Cloud Spanner <br>\n",
    "Cloud Datastore <br>\n",
    "<br>\n",
    "3. Networking<br>\n",
    "The networking service enables us to load-balance traffic across resources, create DNS records, and much more. <br>\n",
    "Some of the services include:<br>\n",
    "VPC <br>\n",
    "Cloud Load Balancing <br>\n",
    "Cloud Armor <br>\n",
    "Cloud CDN <br>\n",
    "Cloud Interconnect <br>\n",
    "Cloud DNS <br>\n",
    "Network Service Tiers<br>\n",
    "<br>\n",
    "4. Big Data<br>\n",
    "The big data service enables us to process and query big data in the cloud.  A few of the included services are the<br> \n",
    "following::<br>\n",
    "BigQuery <br>\n",
    "Cloud Dataproc<br>\n",
    "Cloud Datalab <br>\n",
    "Cloud Data Studio<br>\n",
    "\n",
    "5. Developer Tools<br>\n",
    "The developer tools service includes tools that enable software and application development. <br>\n",
    "Artifact Registry (beta) <br>\n",
    "Cloud SDK <br>\n",
    "Cloud Code <br>\n",
    "CloudBuild<br>\n",
    "Cloud Scheduler<br>\n",
    "Cloud Tasks <br>\n",
    "<br>\n",
    "6. Identity and Security<br>\n",
    "This service deals with security and authentication:<br>\n",
    "Cloud Identity <br>\n",
    "Cloud IAM <br>\n",
    "Cloud Data Loss Prevention API<br>\n",
    "Security Key Enforcement<br>\n",
    "<br>\n",
    "7. Internet of Things(IoT)<br>\n",
    "You can leverage GCP to create IoT environments with the following tools:<br>\n",
    "Cloud IoT Core <br>\n",
    "Edge TPU <br>\n",
    "Cloud IoT<br>\n",
    "\n",
    "8. Cloud AI<br>\n",
    "Cloud AI comprises services related to machine learning, which also encompasses:<br>\n",
    "Cloud AutoML <br>\n",
    "Cloud Natural Language <br>\n",
    "Cloud Speech-to-Text <br>\n",
    "Cloud Text-to-Speech <br>\n",
    "Cloud Translation API<br>\n",
    "Cloud Vision API <br>\n",
    "Cloud Video Intelligence<br> \n",
    "<br>\n",
    "9. Management Tools<br>\n",
    "This domain includes services related to management and monitoring.  The services under this are as follows:<br>\n",
    "Cloud Deployment Manager  <br>\n",
    "Cloud Console <br>\n",
    "Cloud Shell<br>\n",
    "Cloud APIs <br>\n",
    "<br>\n",
    "10. API Platform<br>\n",
    "The few services under this are as follows:<br>\n",
    "Maps Platform <br>\n",
    "Developer Portal <br>\n",
    "API Analytics <br>\n",
    "Apigee Sense <br>\n",
    "Cloud Endpoints <br>\n"
   ]
  },
  {
   "cell_type": "markdown",
   "id": "618b653b",
   "metadata": {},
   "source": [
    "### 7. What is Google Cloud App Engine, and how does it work? What is Google Cloud App Engine's purpose?"
   ]
  },
  {
   "cell_type": "markdown",
   "id": "a56fb52c",
   "metadata": {},
   "source": [
    "App Engine is a fully managed, serverless platform for developing and hosting web applications at scale in Google-managed \n",
    "data centers. One can choose from several popular languages, libraries, and frameworks to develop your apps. Applications\n",
    "are sandboxed and run across multiple servers. App Engine offers automatic scaling for web applications—as the number of \n",
    "requests increases for an application, App Engine automatically allocates more resources for the web application to handle\n",
    "the additional demand. Using the google app engine, we can develop any kind of product, or web application and we can host \n",
    "and deploy it into GCP"
   ]
  },
  {
   "cell_type": "markdown",
   "id": "20c00277",
   "metadata": {},
   "source": [
    "Google cloud app engine trys to look at the traffic and demand for your application and based on this scalability is \n",
    "performed i.e. what to do when user traffic is increased in an application or what to do when user traffic is not present \n",
    "in an application. Hence server management is taken care of in app engine.\n",
    "<br>\n"
   ]
  },
  {
   "cell_type": "markdown",
   "id": "0b8e4bc8",
   "metadata": {},
   "source": [
    "Google cloud app engine ensures:<br>\n",
    "Fully managed service with zero ops ( no need to work at infrastructure level at all)<br>\n",
    "Deploy at Google Scale<br>\n",
    "All popular languages support<br>\n",
    "Lots of built-in features such as scaling up/down, logging, monitoring, diagnostics etc.<br>\n",
    "Building quickly and time to market is short<br>\n",
    "Pay only for what you use<br>\n",
    "All Time Availability ensuring remote access for your applications<br>\n",
    "Ensure Faster Time to Market<br>\n",
    "Diverse Set of APIs that allow developers to build robust and feature-rich apps<br>"
   ]
  },
  {
   "cell_type": "markdown",
   "id": "84103b7b",
   "metadata": {},
   "source": [
    "### 8. Use an example to demonstrate how to use Google Cloud App Engine."
   ]
  },
  {
   "cell_type": "markdown",
   "id": "3f376345",
   "metadata": {},
   "source": [
    "A birds eye view of getting started with AppEngine includes the following:\n",
    "<br>\n",
    "<br>Install the SDK for your preferred language (Go, Python, Java, PHP, Node.js)\n",
    "<br>Use the SDK to scaffold an application & develop locally\n",
    "<br>Deploy the same code that runs locally, to a scalable runtime environment"
   ]
  },
  {
   "cell_type": "markdown",
   "id": "075959d9",
   "metadata": {},
   "source": [
    "1. Creating a Google Cloud Platform project<br>\n",
    "To use Google's tools for your own site or app, you need to create a new project on Google Cloud Platform. This requires having a Google account.\n",
    "\n",
    "- Go to the App Engine dashboard on the Google Cloud Platform Console and press the Create button.\n",
    "- If you've not created a project before, you'll need to select whether you want to receive email updates or not, agree to the Terms of Service, and then you should be able to continue.\n",
    "- Enter a name for the project, edit your project ID and note it down. For this tutorial, the following values are used:\n",
    "<br>Project Name: GAE Sample Site\n",
    "<br>Project ID: gaesamplesite\n",
    "- Click the Create button to create your project.\n",
    "\n",
    "2. Creating an application<br>\n",
    "Each Cloud Platform project can contain one App Engine application. Let's prepare an app for our project.\n",
    "\n",
    "- We'll need a sample application to publish. If you've not got one to use, download and unzip this sample app.\n",
    "- Have a look at the sample application's structure — the website folder contains your website content and app.yaml is your application configuration file.\n",
    "<br>- Your website content must go inside the website folder, and its landing page must be called index.html, but apart from that it can take whatever form you like.\n",
    "<br>- The app.yaml file is a configuration file that tells App Engine how to map URLs to your static files. You don't need to edit it.\n",
    "\n",
    "3. Publishing your application<br>\n",
    "Now that we've got our project made and sample app files collected together, let's publish our app.\n",
    "\n",
    "- Open Google Cloud Shell.\n",
    "- Drag and drop the sample-app folder into the left pane of the code editor.\n",
    "- Run the following in the command line to select your project:\n",
    "gcloud config set project gaesamplesite\n",
    "- Then run the following command to go to your app's directory:\n",
    "cd sample-app\n",
    "- You are now ready to deploy your application, i.e. upload your app to App Engine:\n",
    "gcloud app deploy\n",
    "- Enter a number to choose the region where you want your application located.\n",
    "- Enter Y to confirm.\n",
    "- Now navigate your browser to your-project-id.appspot.com to see your website online. For example, for the project ID gaesamplesite, go to gaesamplesite.appspot.com."
   ]
  }
 ],
 "metadata": {
  "kernelspec": {
   "display_name": "Python 3",
   "language": "python",
   "name": "python3"
  },
  "language_info": {
   "codemirror_mode": {
    "name": "ipython",
    "version": 3
   },
   "file_extension": ".py",
   "mimetype": "text/x-python",
   "name": "python",
   "nbconvert_exporter": "python",
   "pygments_lexer": "ipython3",
   "version": "3.8.8"
  }
 },
 "nbformat": 4,
 "nbformat_minor": 5
}
