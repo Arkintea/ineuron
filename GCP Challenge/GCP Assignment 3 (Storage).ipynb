{
 "cells": [
  {
   "cell_type": "markdown",
   "id": "2e5da9c3",
   "metadata": {},
   "source": [
    "### 1. What distinguishes the Google Cloud Machine Learning Engine from others?"
   ]
  },
  {
   "cell_type": "markdown",
   "id": "d7db2e8a",
   "metadata": {},
   "source": [
    "Google Cloud Machine Learning Engine is a tool that enables businesses to build machine learning models to better understand their data and make predictions using it.\n",
    "\n",
    "Machine learning models have advanced significantly in the last several years, due to advanced computing power that can handle a significant amount of data–which, itself, has exploded with the growth of the Internet of Things (IoT) and other devices."
   ]
  },
  {
   "cell_type": "markdown",
   "id": "d1621efe",
   "metadata": {},
   "source": [
    "The most noticeable feature of Google CloudML is the deployment itself. You don't have to take care of things like setting up your cluster (that is, scaling), launching it, installing the packages and deploy your model for training. This is all done automatically\n",
    "\n",
    "Another distinguishing factor of CloudML is hyper-parameter tuning. It is no more than just a somewhat smart brute-forcing tool to find out the best combination of parameters for your given model, and you could possibly automate this in Compute Engine, but you would have to do that part of figuring out the optimisation algorithms to find the combination of parameters and values that would improve the objective function.\n",
    "\n",
    "Also, you only need to pay for computing time (and it is even cheaper than before) which probably renders the idea of managing and scaling your own cluster (with TensorFlow)"
   ]
  },
  {
   "cell_type": "markdown",
   "id": "d7e5b668",
   "metadata": {},
   "source": [
    "### 2. What are GCP's cloud storage libraries and tools?"
   ]
  },
  {
   "cell_type": "markdown",
   "id": "42992f5a",
   "metadata": {},
   "source": [
    "Cloud Storage is a service for storing your objects in Google Cloud. An object is an immutable piece of data consisting of a file of any format. You store objects in containers called buckets. All buckets are associated with a project, and you can group your projects under an organization."
   ]
  },
  {
   "cell_type": "markdown",
   "id": "12aa0f83",
   "metadata": {},
   "source": [
    " "
   ]
  },
  {
   "cell_type": "markdown",
   "id": "cb8e114d",
   "metadata": {},
   "source": [
    "Basic tools for Cloud Storage\n",
    "Here are some basic ways you can interact with Cloud Storage:\n",
    "\n",
    "Console: The Google Cloud Console provides a visual interface for you to manage your data in a browser.\n",
    "\n",
    "gsutil: gsutil is a command-line tool that allows you to interact with Cloud Storage through a terminal. If you use other Google Cloud services, you can download the Google Cloud CLI, which includes gsutil along with the gcloud tool for other services.\n",
    "\n",
    "Client libraries: The Cloud Storage client libraries allow you to manage your data using one of your preferred languages, including C++, C#, Go, Java, Node.js, PHP, Python, and Ruby.\n",
    "\n",
    "REST APIs: Manage your data using the JSON or XML API."
   ]
  },
  {
   "cell_type": "markdown",
   "id": "579e9495",
   "metadata": {},
   "source": [
    " "
   ]
  },
  {
   "cell_type": "markdown",
   "id": "4610e323",
   "metadata": {},
   "source": [
    "Cloud Libraries are the latest and recommended client libraries for calling Google Cloud APIs.\n",
    "\n",
    "Cloud Libraries provide an optimized developer experience by using each supported language's natural conventions and styles. They also reduce the boilerplate code you have to write because they're designed to enable you to work with service metaphors in mind, rather than implementation details or service API concepts.\n",
    "\n",
    "Client libraries make it easier to access Google Cloud APIs from a supported language. While you can use Google Cloud APIs directly by making raw requests to the server, client libraries provide simplifications that significantly reduce the amount of code you need to write."
   ]
  },
  {
   "cell_type": "markdown",
   "id": "9a230b60",
   "metadata": {},
   "source": [
    "### 3. Define the Google Cloud pricing model."
   ]
  },
  {
   "cell_type": "markdown",
   "id": "f56f80b0",
   "metadata": {},
   "source": [
    "Google Cloud Platform provides the following pricing models:<br>\n",
    "<br>\n",
    "Pay-as-you-go pricing model<br>\n",
    "Google Cloud provides a pay-as-you-go on-demand pricing model. This is most suited to individuals who expect to use the \n",
    "cloud intermittently, as it gives you the flexibility to remove or add services as you wish. However, this degree of \n",
    "flexibility incurs a cost, meaning that the pay-as-you-go model is the most expensive option per hour.<br>\n",
    "<br>\n",
    "\n",
    "Long-term plan<br>\n",
    "If you are planning to use the cloud for a long period, and are willing to make an extended-period upfront commitment to \n",
    "your cloud deployment, you can achieve greater savings than you would with the pay-as-you-go model. Google provides \n",
    "long-term pricing terms with upfront obligations of one year or three years. This plan is called Committed Use, and it \n",
    "provides significant savings when compared to an on-demand pricing model—as much as 70% on Compute Engine.<br>\n",
    "<br>\n",
    "\n",
    "Free tier option<br>\n",
    "If you are not at a stage where you are ready to move to a cloud service, Google Cloud provides the free tier option over\n",
    "a wide variety of products. This gives you a predefined resource amount over a specific period, suitable for those looking\n",
    "to try out a service.<br>\n",
    "<br>\n",
    "Google also provides some “always free” cloud services, which are suitable for organizations that have very low usage \n",
    "requirements and are not fussed if operations are interrupted. If you choose the GCP Free Tier, you will receive 24 cloud services and products within monthly usage limits. New Google Cloud customers receive $300 of credit for free, which they can spend on any Google Cloud services or products. You can use various free products across AI, IoT, database, compute, and storage, and these largely cover the cloud services that are most widely used."
   ]
  },
  {
   "cell_type": "markdown",
   "id": "a2d993fa",
   "metadata": {},
   "source": [
    "### 4. The Google Compute Engine API has a variety of authentication mechanisms."
   ]
  },
  {
   "cell_type": "markdown",
   "id": "46f69436",
   "metadata": {},
   "source": [
    "There are various techniques for the authentication of Google Compute Engine API: \n",
    "<br>\n",
    "Utilizing OAuth 2.0 <br>\n",
    "Through client library <br>\n",
    "Straightforwardly with an entrance token<br>"
   ]
  },
  {
   "cell_type": "markdown",
   "id": "c94ce337",
   "metadata": {},
   "source": [
    "API keys<br>\n",
    "An API key is a simple encrypted string that identifies a Google Cloud project for quota, billing, and monitoring purposes. A developer generates an API key in a project in the Cloud Console and embeds that key in every call to your API as a query parameter.<br>\n",
    "<br>\n",
    "Firebase authentication<br>\n",
    "Firebase authentication provides backend services, SDKs, and libraries to authenticate users to a mobile or web app. It authenticates users by using a variety of credentials such as Google, Facebook, Twitter, or GitHub.<br>\n",
    "<br>\n",
    "Auth0<br>\n",
    "Auth0 authenticates and authorizes applications and APIs regardless of identity provider, platform, stack and device.<br>\n",
    "<br>\n",
    "Google ID token authentication<br>\n",
    "Authentication with a Google ID token allows users to authenticate by signing in with a Google account. Once authenticated, the user has access to all Google services.<br>\n",
    "<br>\n",
    "Service accounts<br>\n",
    "To identify a service that sends requests to your API, you use a service account. The calling service uses the service account's private key to sign a secure JSON Web Token (JWT) and sends the signed JWT in the request to your API.<br>\n",
    "<br>\n",
    "Custom authentication<br>\n",
    "You can use other authentication platforms to authenticate users as long as it conforms to the JSON Web Token RFC 7519.<br>"
   ]
  },
  {
   "cell_type": "markdown",
   "id": "bb99093b",
   "metadata": {},
   "source": [
    "### 5. Create Google Cloud service accounts and explain how to use them."
   ]
  },
  {
   "cell_type": "markdown",
   "id": "d5a709bb",
   "metadata": {},
   "source": [
    "1. Log in to your GCP console and click on the hamburger icon at the top left corner.\n",
    "2. Hover on IAM & Admin > click on Service Accounts.\n",
    "3. Click on + Create Service Account.\n",
    "4. Provide Service Account Details including the account Name, ID, and Description. Click Create.\n",
    "5. Provide the role Viewer for the project. \n",
    "6. Click on + Create Key.\n",
    "7. Select the Key Type as JSON and click Create. "
   ]
  },
  {
   "cell_type": "markdown",
   "id": "6af4dfba",
   "metadata": {},
   "source": [
    " "
   ]
  },
  {
   "cell_type": "markdown",
   "id": "d9ca5871",
   "metadata": {},
   "source": [
    "Using the Service Account<br>\n",
    "<br>\n",
    "If you’re using the internally for other Google Cloud Platform services, you’ll often be given an option to select the service account. For example, for Compute Engine, under the instance settings you can set the service account that the engine uses, which will be used by default for all CLI requests coming from the instance.\n",
    "\n",
    "If you want to authenticate a service that isn’t running on Compute Engine, or don’t want to set the service account for the whole instance, you’ll need to create an access key for the service account. You can do this from the Service Account settings in the IAM Console; click “Create Key,” and you’ll be given the option to download a JSON key for the service account.\n",
    "\n",
    "Then, you can pass that key to the API, usually by setting the GOOGLE_APPLICATION_CREDENTIALS environment variable. This credential contains the service account email and ID, and is all that you need for setting up a connection between your application and GCP."
   ]
  },
  {
   "cell_type": "markdown",
   "id": "657ff188",
   "metadata": {},
   "source": [
    "### 6. How to make a Google Cloud Storage project?"
   ]
  },
  {
   "cell_type": "markdown",
   "id": "15bf9681",
   "metadata": {},
   "source": [
    "1. Open the Google Cloud Platform projects list.\n",
    "2. Click Create Project.\n",
    "3. Fill out the project information.\n",
    "4. To publish an app listing privately to a domain, under Organization, choose the organization that needs access to the app.\n",
    "5. Click Create."
   ]
  },
  {
   "cell_type": "code",
   "execution_count": null,
   "id": "74d5d3d3",
   "metadata": {},
   "outputs": [],
   "source": []
  }
 ],
 "metadata": {
  "kernelspec": {
   "display_name": "Python 3",
   "language": "python",
   "name": "python3"
  },
  "language_info": {
   "codemirror_mode": {
    "name": "ipython",
    "version": 3
   },
   "file_extension": ".py",
   "mimetype": "text/x-python",
   "name": "python",
   "nbconvert_exporter": "python",
   "pygments_lexer": "ipython3",
   "version": "3.8.8"
  }
 },
 "nbformat": 4,
 "nbformat_minor": 5
}
