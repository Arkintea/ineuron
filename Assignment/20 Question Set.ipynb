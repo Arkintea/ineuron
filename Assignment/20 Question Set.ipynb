{
 "cells": [
  {
   "cell_type": "markdown",
   "metadata": {},
   "source": [
    "### 1. Function which will take string and return a len of a string"
   ]
  },
  {
   "cell_type": "code",
   "execution_count": 1,
   "metadata": {},
   "outputs": [],
   "source": [
    "def len_function(a):\n",
    "  \"\"\"Function to return the length of a string\"\"\"\n",
    "  if type(a) == str:\n",
    "    count = 0\n",
    "    for i in a:\n",
    "      count += 1\n",
    "    return count"
   ]
  },
  {
   "cell_type": "code",
   "execution_count": 2,
   "metadata": {},
   "outputs": [
    {
     "data": {
      "text/plain": [
       "3"
      ]
     },
     "execution_count": 2,
     "metadata": {},
     "output_type": "execute_result"
    }
   ],
   "source": [
    "len_function('edf')"
   ]
  },
  {
   "cell_type": "markdown",
   "metadata": {},
   "source": [
    "### 2. Function which will be able to print an index of all premitive element which you will pass "
   ]
  },
  {
   "cell_type": "code",
   "execution_count": 3,
   "metadata": {},
   "outputs": [],
   "source": [
    "def index_function(a):\n",
    "    \"\"\"Function to return the index of a primitive list\"\"\"\n",
    "    lst = []\n",
    "    for i in range(len(a)):\n",
    "        lst.append(f'Index of {a[i]} is {i}')\n",
    "    return lst\n",
    "\n"
   ]
  },
  {
   "cell_type": "code",
   "execution_count": 4,
   "metadata": {},
   "outputs": [
    {
     "data": {
      "text/plain": [
       "['Index of 2 is 0',\n",
       " 'Index of 45 is 1',\n",
       " 'Index of 78 is 2',\n",
       " 'Index of 12 is 3',\n",
       " 'Index of 12 is 4',\n",
       " 'Index of 12 is 5',\n",
       " 'Index of 12 is 6',\n",
       " 'Index of sudh is 7',\n",
       " 'Index of (6+7j) is 8',\n",
       " \"Index of [56, 67, 78, 'dsfdsf'] is 9\"]"
      ]
     },
     "execution_count": 4,
     "metadata": {},
     "output_type": "execute_result"
    }
   ],
   "source": [
    "a = [2, 45, 78, 12, 12, 12, 12, 'sudh', (6+7j), [56, 67, 78, 'dsfdsf']]\n",
    "index_function(a)"
   ]
  },
  {
   "cell_type": "markdown",
   "metadata": {},
   "source": [
    "### 3. Function to return a list from a dictionary even if it is a nested dictionary"
   ]
  },
  {
   "cell_type": "code",
   "execution_count": 5,
   "metadata": {},
   "outputs": [],
   "source": [
    "def lst_from_dict(a):\n",
    "    \"\"\"Function to return a list from a dictionary even if it is a nested dictionary\"\"\"\n",
    "    lst = []\n",
    "    for i in a.values():\n",
    "        if type(i) == int:\n",
    "            lst.append(i)\n",
    "        elif type(i) == dict:\n",
    "            for j in i.values():\n",
    "                lst.append(j)\n",
    "    return lst"
   ]
  },
  {
   "cell_type": "code",
   "execution_count": 6,
   "metadata": {},
   "outputs": [
    {
     "data": {
      "text/plain": [
       "[3, 51, 22, 33, 52, 8, 0, 65]"
      ]
     },
     "execution_count": 6,
     "metadata": {},
     "output_type": "execute_result"
    }
   ],
   "source": [
    "a = {'ineuron' : {'a': 3, 'b': 51, 'c': 22, 'j':33}, \n",
    "       'course' : {'a': 52, 'b': 8, 'c': 0}, \n",
    "    'man':65}\n",
    "lst_from_dict(a)"
   ]
  },
  {
   "cell_type": "markdown",
   "metadata": {},
   "source": [
    "### Via Recussion"
   ]
  },
  {
   "cell_type": "code",
   "execution_count": 7,
   "metadata": {},
   "outputs": [],
   "source": [
    "lst=[]\n",
    "def lst_from_dict(aa):\n",
    "    \"\"\"Function to return a list from a dictionary even if it is a nested dictionary\"\"\"\n",
    "    for i in aa:\n",
    "        if type(aa[i]) == dict:\n",
    "            lst_from_dict(aa[i])\n",
    "        else:\n",
    "            lst.append(aa[i])\n",
    "    return lst"
   ]
  },
  {
   "cell_type": "code",
   "execution_count": 8,
   "metadata": {},
   "outputs": [
    {
     "data": {
      "text/plain": [
       "[3, 51, 22, 33, 52, 8, 0, 8, 0, 65]"
      ]
     },
     "execution_count": 8,
     "metadata": {},
     "output_type": "execute_result"
    }
   ],
   "source": [
    "aa = {'ineuron' : {'a': 3, 'b': 51, 'c': 22, 'j':33}, 'course' : {'a': {'a': 52, 'b': 8, 'c': 0}, 'b': 8, 'c': 0}, 'man':65}\n",
    "lst_from_dict(aa)"
   ]
  },
  {
   "cell_type": "markdown",
   "metadata": {},
   "source": [
    "### 4. Call a Funtion in another Function"
   ]
  },
  {
   "cell_type": "code",
   "execution_count": 9,
   "metadata": {},
   "outputs": [],
   "source": [
    "def function_in_function(a):\n",
    "    \"\"\"Function that takes another function as input and return an output\"\"\"\n",
    "    we = index_function(a)\n",
    "    return we      "
   ]
  },
  {
   "cell_type": "code",
   "execution_count": 10,
   "metadata": {},
   "outputs": [
    {
     "data": {
      "text/plain": [
       "['Index of 3 is 0',\n",
       " 'Index of 51 is 1',\n",
       " 'Index of 22 is 2',\n",
       " 'Index of 33 is 3',\n",
       " 'Index of 52 is 4',\n",
       " 'Index of 8 is 5',\n",
       " 'Index of 0 is 6',\n",
       " 'Index of 8 is 7',\n",
       " 'Index of 0 is 8',\n",
       " 'Index of 65 is 9',\n",
       " 'Index of 3 is 10',\n",
       " 'Index of 5 is 11',\n",
       " 'Index of 22 is 12',\n",
       " 'Index of 91 is 13',\n",
       " 'Index of 52 is 14',\n",
       " 'Index of 8 is 15',\n",
       " 'Index of 0 is 16',\n",
       " 'Index of 65 is 17']"
      ]
     },
     "execution_count": 10,
     "metadata": {},
     "output_type": "execute_result"
    }
   ],
   "source": [
    "a = {'ineuron' : {'a': 3, 'b': 5, 'c': 22, 'd':91}, \n",
    "       'course' : {'a': 52, 'b': 8, 'c': 0}, \n",
    "    'man':65}\n",
    "function_in_function(lst_from_dict(a))"
   ]
  },
  {
   "cell_type": "markdown",
   "metadata": {},
   "source": [
    "### 5. Function that takes multiple list and concate the output"
   ]
  },
  {
   "cell_type": "code",
   "execution_count": 11,
   "metadata": {},
   "outputs": [],
   "source": [
    "def multiple_list(a):\n",
    "    \"\"\"function whihc will take multiple list as a input and give me concatnation of all the element as \n",
    "and output\"\"\"\n",
    "    lst = []\n",
    "    for i in a:\n",
    "        if type(i) == list:\n",
    "            for j in i:\n",
    "                lst.append(j)\n",
    "        else:\n",
    "            pass\n",
    "    return lst"
   ]
  },
  {
   "cell_type": "code",
   "execution_count": 12,
   "metadata": {},
   "outputs": [
    {
     "data": {
      "text/plain": [
       "[3, 5, 6, 6, 2, 0, 4, 4, 8, 2, 3]"
      ]
     },
     "execution_count": 12,
     "metadata": {},
     "output_type": "execute_result"
    }
   ],
   "source": [
    "multiple_list([[3, 5, 6], [6, 2, 0, 4, 4, 8], [2, 3]])"
   ]
  },
  {
   "cell_type": "markdown",
   "metadata": {},
   "source": [
    "### 6. Function which will be able to take a list as an input return an index of each element "
   ]
  },
  {
   "cell_type": "code",
   "execution_count": 13,
   "metadata": {},
   "outputs": [],
   "source": [
    "def index_element(a):\n",
    "    lst = []\n",
    "    for i in range(len(a)):\n",
    "        lst.append(f'Index of {a[i]} is {i}')\n",
    "    return lst"
   ]
  },
  {
   "cell_type": "code",
   "execution_count": 14,
   "metadata": {},
   "outputs": [
    {
     "data": {
      "text/plain": [
       "['Index of 2 is 0',\n",
       " 'Index of 45 is 1',\n",
       " 'Index of 78 is 2',\n",
       " 'Index of 12 is 3',\n",
       " 'Index of 12 is 4',\n",
       " 'Index of 12 is 5',\n",
       " 'Index of 12 is 6',\n",
       " 'Index of sudh is 7',\n",
       " 'Index of (6+7j) is 8',\n",
       " \"Index of [56, 67, 78, 'dsfdsf'] is 9\"]"
      ]
     },
     "execution_count": 14,
     "metadata": {},
     "output_type": "execute_result"
    }
   ],
   "source": [
    "a = [2, 45, 78, 12, 12, 12, 12, 'sudh', (6+7j), [56, 67, 78, 'dsfdsf']]\n",
    "index_element(a)"
   ]
  },
  {
   "cell_type": "markdown",
   "metadata": {},
   "source": [
    "### 7. Function which will would return list of all the file name from a directory"
   ]
  },
  {
   "cell_type": "code",
   "execution_count": 15,
   "metadata": {},
   "outputs": [],
   "source": [
    "def directory_function(directory):\n",
    "    \"\"\"Function which will whould return list of all the file name from a directory\"\"\"\n",
    "    import os\n",
    "    files = os.listdir(directory)    \n",
    "    return files"
   ]
  },
  {
   "cell_type": "code",
   "execution_count": 16,
   "metadata": {},
   "outputs": [
    {
     "data": {
      "text/plain": [
       "['.ipynb_checkpoints', '20 Question Set.ipynb']"
      ]
     },
     "execution_count": 16,
     "metadata": {},
     "output_type": "execute_result"
    }
   ],
   "source": [
    "directory_function('.')"
   ]
  },
  {
   "cell_type": "markdown",
   "metadata": {},
   "source": [
    "### 8. Function which will be able to show your system configuration"
   ]
  },
  {
   "cell_type": "code",
   "execution_count": 3,
   "metadata": {},
   "outputs": [
    {
     "name": "stdout",
     "output_type": "stream",
     "text": [
      "Requirement already satisfied: psutil in c:\\users\\akintayo.akinpelu.tranterit\\anaconda3\\lib\\site-packages (5.8.0)\n"
     ]
    }
   ],
   "source": [
    "!pip install psutil"
   ]
  },
  {
   "cell_type": "code",
   "execution_count": null,
   "metadata": {},
   "outputs": [],
   "source": [
    "def system_configuration():\n",
    "    \"\"\"Function which will be able to show your system configuration\"\"\"\n",
    "    import platform\n",
    "    return platform.uname(), psutil.cpu_freq()"
   ]
  },
  {
   "cell_type": "code",
   "execution_count": null,
   "metadata": {
    "scrolled": false
   },
   "outputs": [],
   "source": [
    "system_configuration()"
   ]
  },
  {
   "cell_type": "markdown",
   "metadata": {},
   "source": [
    "### 9. Function which will be able to show date and time"
   ]
  },
  {
   "cell_type": "code",
   "execution_count": 21,
   "metadata": {},
   "outputs": [],
   "source": [
    "def date_time():\n",
    "    \"\"\"Function which will be able to show date and time\"\"\"\n",
    "    import datetime\n",
    "    x = datetime.datetime.now()\n",
    "    return x.strftime('%A-%d-%B-%Y'), x.strftime('%H:%M:%S')\n"
   ]
  },
  {
   "cell_type": "code",
   "execution_count": 22,
   "metadata": {},
   "outputs": [
    {
     "data": {
      "text/plain": [
       "('Sunday-30-January-2022', '20:15:59')"
      ]
     },
     "execution_count": 22,
     "metadata": {},
     "output_type": "execute_result"
    }
   ],
   "source": [
    "date_time()"
   ]
  },
  {
   "cell_type": "markdown",
   "metadata": {},
   "source": [
    "### 10. write a function which will be able to read a image file and show it to you"
   ]
  },
  {
   "cell_type": "code",
   "execution_count": 25,
   "metadata": {},
   "outputs": [],
   "source": [
    "def image_opener(a):\n",
    "    \"\"\"write a function which will be able to read a image file and show it to you\"\"\"\n",
    "    from PIL import Image\n",
    "    \n",
    "    img = Image.open(f'{a}.jpg')\n",
    "    return img"
   ]
  },
  {
   "cell_type": "code",
   "execution_count": 27,
   "metadata": {},
   "outputs": [],
   "source": [
    "#image_opener('akpix')"
   ]
  },
  {
   "cell_type": "markdown",
   "metadata": {},
   "source": [
    "### 11. Function which can read video file and play it"
   ]
  },
  {
   "cell_type": "code",
   "execution_count": 29,
   "metadata": {},
   "outputs": [],
   "source": [
    "def read_video(paths):\n",
    "    \"\"\"Function which can read video file and play it\"\"\"\n",
    "    from os import startfile\n",
    "    startfile(paths)\n",
    "\n",
    "    "
   ]
  },
  {
   "cell_type": "code",
   "execution_count": 87,
   "metadata": {
    "scrolled": true
   },
   "outputs": [
    {
     "ename": "FileNotFoundError",
     "evalue": "[WinError 2] The system cannot find the file specified: 'C:\\\\Users\\\\akintayo.akinpelu.TRANTERIT\\\\Desktop\\\\DS+ML+DL\\\\ineuron\\\\Assignments\\\\video'",
     "output_type": "error",
     "traceback": [
      "\u001b[1;31m---------------------------------------------------------------------------\u001b[0m",
      "\u001b[1;31mFileNotFoundError\u001b[0m                         Traceback (most recent call last)",
      "\u001b[1;32m<ipython-input-87-0c812dea2c49>\u001b[0m in \u001b[0;36m<module>\u001b[1;34m\u001b[0m\n\u001b[0;32m      1\u001b[0m \u001b[1;32mfrom\u001b[0m \u001b[0mos\u001b[0m \u001b[1;32mimport\u001b[0m \u001b[0mstartfile\u001b[0m\u001b[1;33m\u001b[0m\u001b[1;33m\u001b[0m\u001b[0m\n\u001b[1;32m----> 2\u001b[1;33m \u001b[0mstartfile\u001b[0m\u001b[1;33m(\u001b[0m\u001b[1;34mr'C:\\Users\\akintayo.akinpelu.TRANTERIT\\Desktop\\DS+ML+DL\\ineuron\\Assignments\\video'\u001b[0m\u001b[1;33m)\u001b[0m\u001b[1;33m\u001b[0m\u001b[1;33m\u001b[0m\u001b[0m\n\u001b[0m",
      "\u001b[1;31mFileNotFoundError\u001b[0m: [WinError 2] The system cannot find the file specified: 'C:\\\\Users\\\\akintayo.akinpelu.TRANTERIT\\\\Desktop\\\\DS+ML+DL\\\\ineuron\\\\Assignments\\\\video'"
     ]
    }
   ],
   "source": [
    "from os import startfile\n",
    "startfile(r'C:\\Users\\akintayo.akinpelu.TRANTERIT\\Desktop\\DS+ML+DL\\ineuron\\Assignments\\video')"
   ]
  },
  {
   "cell_type": "code",
   "execution_count": 36,
   "metadata": {},
   "outputs": [
    {
     "ename": "FileNotFoundError",
     "evalue": "[WinError 2] The system cannot find the file specified: 'C:\\\\Users\\\\akintayo.akinpelu.TRANTERIT\\\\Desktop\\\\DS+ML+DL\\\\ineuron\\\\Assignments\\\\video'",
     "output_type": "error",
     "traceback": [
      "\u001b[1;31m---------------------------------------------------------------------------\u001b[0m",
      "\u001b[1;31mFileNotFoundError\u001b[0m                         Traceback (most recent call last)",
      "\u001b[1;32m<ipython-input-36-7f3caf1e2858>\u001b[0m in \u001b[0;36m<module>\u001b[1;34m\u001b[0m\n\u001b[0;32m      1\u001b[0m \u001b[0mpaths\u001b[0m \u001b[1;33m=\u001b[0m \u001b[1;34mr\"C:\\Users\\akintayo.akinpelu.TRANTERIT\\Desktop\\DS+ML+DL\\ineuron\\Assignments\\video\"\u001b[0m\u001b[1;33m\u001b[0m\u001b[1;33m\u001b[0m\u001b[0m\n\u001b[1;32m----> 2\u001b[1;33m \u001b[0mread_video\u001b[0m\u001b[1;33m(\u001b[0m\u001b[0mpaths\u001b[0m\u001b[1;33m)\u001b[0m\u001b[1;33m\u001b[0m\u001b[1;33m\u001b[0m\u001b[0m\n\u001b[0m",
      "\u001b[1;32m<ipython-input-29-8800900b7886>\u001b[0m in \u001b[0;36mread_video\u001b[1;34m(paths)\u001b[0m\n\u001b[0;32m      2\u001b[0m     \u001b[1;34m\"\"\"Function which can read video file and play it\"\"\"\u001b[0m\u001b[1;33m\u001b[0m\u001b[1;33m\u001b[0m\u001b[0m\n\u001b[0;32m      3\u001b[0m     \u001b[1;32mfrom\u001b[0m \u001b[0mos\u001b[0m \u001b[1;32mimport\u001b[0m \u001b[0mstartfile\u001b[0m\u001b[1;33m\u001b[0m\u001b[1;33m\u001b[0m\u001b[0m\n\u001b[1;32m----> 4\u001b[1;33m     \u001b[0mstartfile\u001b[0m\u001b[1;33m(\u001b[0m\u001b[0mpaths\u001b[0m\u001b[1;33m)\u001b[0m\u001b[1;33m\u001b[0m\u001b[1;33m\u001b[0m\u001b[0m\n\u001b[0m\u001b[0;32m      5\u001b[0m \u001b[1;33m\u001b[0m\u001b[0m\n\u001b[0;32m      6\u001b[0m \u001b[1;33m\u001b[0m\u001b[0m\n",
      "\u001b[1;31mFileNotFoundError\u001b[0m: [WinError 2] The system cannot find the file specified: 'C:\\\\Users\\\\akintayo.akinpelu.TRANTERIT\\\\Desktop\\\\DS+ML+DL\\\\ineuron\\\\Assignments\\\\video'"
     ]
    }
   ],
   "source": [
    "paths = r\"C:\\Users\\akintayo.akinpelu.TRANTERIT\\Desktop\\DS+ML+DL\\ineuron\\Assignments\\video\"\n",
    "read_video(paths)"
   ]
  },
  {
   "cell_type": "markdown",
   "metadata": {},
   "source": [
    "### 12. Function which can move a file from one directory to another directory"
   ]
  },
  {
   "cell_type": "code",
   "execution_count": 1,
   "metadata": {},
   "outputs": [],
   "source": [
    "def move_directory(source, destination):\n",
    "    \"\"\"Move file from one directory to another directory\"\"\"\n",
    "    import shutil\n",
    "    shutil.move(source, destination)\n"
   ]
  },
  {
   "cell_type": "code",
   "execution_count": 2,
   "metadata": {},
   "outputs": [],
   "source": [
    "source=r'C:\\\\Users\\\\akintayo.akinpelu.TRANTERIT\\\\Desktop\\\\DS+ML+DL\\\\ineuron\\\\Assignments\\\\test\\\\source'\n",
    "destination=r'C:\\\\Users\\\\akintayo.akinpelu.TRANTERIT\\\\Desktop\\\\DS+ML+DL\\\\ineuron\\\\Assignments\\\\test\\\\destination'\n",
    "move_directory(source, destination)"
   ]
  },
  {
   "cell_type": "markdown",
   "metadata": {},
   "source": [
    "### 13. Function to shutdown system"
   ]
  },
  {
   "cell_type": "code",
   "execution_count": 54,
   "metadata": {},
   "outputs": [],
   "source": [
    "def shutdown():\n",
    "    \"\"\"Function to shutdown system\"\"\"\n",
    "    import os\n",
    "    os.system('shutdown /s /t 1')\n",
    "#1 second of delay"
   ]
  },
  {
   "cell_type": "code",
   "execution_count": 55,
   "metadata": {},
   "outputs": [],
   "source": [
    "#shutdown()"
   ]
  },
  {
   "cell_type": "markdown",
   "metadata": {},
   "source": [
    "### 16. Function to read a PDF File"
   ]
  },
  {
   "cell_type": "code",
   "execution_count": 14,
   "metadata": {},
   "outputs": [],
   "source": [
    "def read_pdf(name):\n",
    "    \"\"\"Function to read a PDF File\"\"\"\n",
    "    \n",
    "    import PyPDF2 as pdf\n",
    "    f=open(f'{name}.pdf', 'rb')\n",
    "    f_read=pdf.PdfFileReader(f)\n",
    "\n",
    "    for i in range(0, -1, -1):\n",
    "        f_page=f_read.getPage(i)\n",
    "        print(f_page.extractText())\n",
    "    f.close()\n"
   ]
  },
  {
   "cell_type": "code",
   "execution_count": 15,
   "metadata": {},
   "outputs": [
    {
     "name": "stdout",
     "output_type": "stream",
     "text": [
      "WATER / WASTEWATER\n",
      "Liquid Level Ultrasonic Transmitter (LL6)\n",
      "APPLICATION DRAWING\n",
      "\n",
      "\n",
      "\n",
      "\n",
      "\n",
      "\n",
      "\n",
      "\n",
      "\n",
      "\n",
      "\n",
      "\n",
      "\n",
      "\n",
      "HIGHLIGHTSWireless Gateway\n",
      "\n",
      "\n",
      "\n",
      "\n",
      "\n",
      "\n",
      "\n",
      "©2015 OleumTech Corporation. All rights reserved. OleumTech is a registered trademark of OleumTech Corporation in the United States. Speci˜cations, design, and product \n",
      "descriptions subject to change without notice. \n",
      "This device contains proprietary intellectual property protected by US Patent \n",
      "#6967589.  Document ID: 80-4026-001_E\n",
      "\n",
      "WATER/WASTEWATER TANKS· Level Monitoring\n",
      "> 12ﬂ 12ﬂ Dead Band\n",
      "Maximum tank height: 12 ft. \n",
      "Install 2ﬂ-3ﬂ O˚-Center \n",
      "for Best Results \n",
      "Reading Range: 1-12 ft.\n",
      "12ﬂ Clearance Required\n",
      "\n",
      "from Side of Tank\n",
      "\n"
     ]
    }
   ],
   "source": [
    "read_pdf('Ultrasonic')"
   ]
  },
  {
   "cell_type": "markdown",
   "metadata": {},
   "source": [
    "### 17. Function to Read a Word File"
   ]
  },
  {
   "cell_type": "code",
   "execution_count": 5,
   "metadata": {},
   "outputs": [],
   "source": [
    "def read_word(name):\n",
    "    \"\"\"Function to Read a Word File\"\"\"\n",
    "    f=open(f'{name}.docx', 'r')\n",
    "    print(f.read())"
   ]
  },
  {
   "cell_type": "code",
   "execution_count": 6,
   "metadata": {},
   "outputs": [
    {
     "ename": "UnicodeDecodeError",
     "evalue": "'charmap' codec can't decode byte 0x8f in position 591: character maps to <undefined>",
     "output_type": "error",
     "traceback": [
      "\u001b[1;31m---------------------------------------------------------------------------\u001b[0m",
      "\u001b[1;31mUnicodeDecodeError\u001b[0m                        Traceback (most recent call last)",
      "\u001b[1;32m<ipython-input-6-d28ef6e53a3a>\u001b[0m in \u001b[0;36m<module>\u001b[1;34m\u001b[0m\n\u001b[1;32m----> 1\u001b[1;33m \u001b[0mread_word\u001b[0m\u001b[1;33m(\u001b[0m\u001b[1;34m'PR'\u001b[0m\u001b[1;33m)\u001b[0m\u001b[1;33m\u001b[0m\u001b[1;33m\u001b[0m\u001b[0m\n\u001b[0m",
      "\u001b[1;32m<ipython-input-5-edff8e4f2e87>\u001b[0m in \u001b[0;36mread_word\u001b[1;34m(name)\u001b[0m\n\u001b[0;32m      2\u001b[0m     \u001b[1;34m\"\"\"Function to Read a Word File\"\"\"\u001b[0m\u001b[1;33m\u001b[0m\u001b[1;33m\u001b[0m\u001b[0m\n\u001b[0;32m      3\u001b[0m     \u001b[0mf\u001b[0m\u001b[1;33m=\u001b[0m\u001b[0mopen\u001b[0m\u001b[1;33m(\u001b[0m\u001b[1;34mf'{name}.docx'\u001b[0m\u001b[1;33m,\u001b[0m \u001b[1;34m'r'\u001b[0m\u001b[1;33m)\u001b[0m\u001b[1;33m\u001b[0m\u001b[1;33m\u001b[0m\u001b[0m\n\u001b[1;32m----> 4\u001b[1;33m     \u001b[0mprint\u001b[0m\u001b[1;33m(\u001b[0m\u001b[0mf\u001b[0m\u001b[1;33m.\u001b[0m\u001b[0mread\u001b[0m\u001b[1;33m(\u001b[0m\u001b[1;33m)\u001b[0m\u001b[1;33m)\u001b[0m\u001b[1;33m\u001b[0m\u001b[1;33m\u001b[0m\u001b[0m\n\u001b[0m",
      "\u001b[1;32m~\\Anaconda3\\lib\\encodings\\cp1252.py\u001b[0m in \u001b[0;36mdecode\u001b[1;34m(self, input, final)\u001b[0m\n\u001b[0;32m     21\u001b[0m \u001b[1;32mclass\u001b[0m \u001b[0mIncrementalDecoder\u001b[0m\u001b[1;33m(\u001b[0m\u001b[0mcodecs\u001b[0m\u001b[1;33m.\u001b[0m\u001b[0mIncrementalDecoder\u001b[0m\u001b[1;33m)\u001b[0m\u001b[1;33m:\u001b[0m\u001b[1;33m\u001b[0m\u001b[1;33m\u001b[0m\u001b[0m\n\u001b[0;32m     22\u001b[0m     \u001b[1;32mdef\u001b[0m \u001b[0mdecode\u001b[0m\u001b[1;33m(\u001b[0m\u001b[0mself\u001b[0m\u001b[1;33m,\u001b[0m \u001b[0minput\u001b[0m\u001b[1;33m,\u001b[0m \u001b[0mfinal\u001b[0m\u001b[1;33m=\u001b[0m\u001b[1;32mFalse\u001b[0m\u001b[1;33m)\u001b[0m\u001b[1;33m:\u001b[0m\u001b[1;33m\u001b[0m\u001b[1;33m\u001b[0m\u001b[0m\n\u001b[1;32m---> 23\u001b[1;33m         \u001b[1;32mreturn\u001b[0m \u001b[0mcodecs\u001b[0m\u001b[1;33m.\u001b[0m\u001b[0mcharmap_decode\u001b[0m\u001b[1;33m(\u001b[0m\u001b[0minput\u001b[0m\u001b[1;33m,\u001b[0m\u001b[0mself\u001b[0m\u001b[1;33m.\u001b[0m\u001b[0merrors\u001b[0m\u001b[1;33m,\u001b[0m\u001b[0mdecoding_table\u001b[0m\u001b[1;33m)\u001b[0m\u001b[1;33m[\u001b[0m\u001b[1;36m0\u001b[0m\u001b[1;33m]\u001b[0m\u001b[1;33m\u001b[0m\u001b[1;33m\u001b[0m\u001b[0m\n\u001b[0m\u001b[0;32m     24\u001b[0m \u001b[1;33m\u001b[0m\u001b[0m\n\u001b[0;32m     25\u001b[0m \u001b[1;32mclass\u001b[0m \u001b[0mStreamWriter\u001b[0m\u001b[1;33m(\u001b[0m\u001b[0mCodec\u001b[0m\u001b[1;33m,\u001b[0m\u001b[0mcodecs\u001b[0m\u001b[1;33m.\u001b[0m\u001b[0mStreamWriter\u001b[0m\u001b[1;33m)\u001b[0m\u001b[1;33m:\u001b[0m\u001b[1;33m\u001b[0m\u001b[1;33m\u001b[0m\u001b[0m\n",
      "\u001b[1;31mUnicodeDecodeError\u001b[0m: 'charmap' codec can't decode byte 0x8f in position 591: character maps to <undefined>"
     ]
    }
   ],
   "source": [
    "read_word('PR')"
   ]
  },
  {
   "cell_type": "code",
   "execution_count": 5,
   "metadata": {},
   "outputs": [
    {
     "data": {
      "text/plain": [
       "'C:\\\\Users\\\\akintayo.akinpelu.TRANTERIT\\\\Desktop\\\\DS+ML+DL\\\\ineuron\\\\Assignments\\\\December'"
      ]
     },
     "execution_count": 5,
     "metadata": {},
     "output_type": "execute_result"
    }
   ],
   "source": [
    "pwd"
   ]
  },
  {
   "cell_type": "markdown",
   "metadata": {},
   "source": [
    "### 18. Function to Filter word File from a directory"
   ]
  },
  {
   "cell_type": "code",
   "execution_count": 3,
   "metadata": {},
   "outputs": [],
   "source": [
    "def filter_word_file(paths):\n",
    "    \"\"\"filter word file from a directory\"\"\"\n",
    "    import os\n",
    "    for file in os.listdir(paths):\n",
    "        if file.endswith(('.docx', '.doc')):\n",
    "            print(os.path.join(file))\n",
    "    "
   ]
  },
  {
   "cell_type": "code",
   "execution_count": 4,
   "metadata": {},
   "outputs": [
    {
     "name": "stdout",
     "output_type": "stream",
     "text": [
      "finalfile.pdf\n",
      "t.pdf\n",
      "u.pdf\n",
      "v.pdf\n"
     ]
    }
   ],
   "source": [
    "filter_word_file('.')"
   ]
  },
  {
   "cell_type": "markdown",
   "metadata": {},
   "source": [
    "### 19. Function to Print the IP Address of a System"
   ]
  },
  {
   "cell_type": "code",
   "execution_count": 78,
   "metadata": {},
   "outputs": [],
   "source": [
    "def system_ip():\n",
    "    \"\"\"Function to Print the IP Address of a System\"\"\"\n",
    "    import socket\n",
    "    name = socket.gethostname()\n",
    "    ip_address = socket.gethostbyname(name)\n",
    "    print(f'System name is {name} and IP address is {ip_address}')"
   ]
  },
  {
   "cell_type": "code",
   "execution_count": 80,
   "metadata": {},
   "outputs": [
    {
     "name": "stdout",
     "output_type": "stream",
     "text": [
      "System name is TRANTERIT-PC67 and IP address is 169.254.216.228\n"
     ]
    }
   ],
   "source": [
    "system_ip()"
   ]
  },
  {
   "cell_type": "markdown",
   "metadata": {},
   "source": [
    "### 20. Function to merge PDF Files in a folder"
   ]
  },
  {
   "cell_type": "code",
   "execution_count": 11,
   "metadata": {},
   "outputs": [],
   "source": [
    "def merge_pdf(*args):\n",
    "    \"\"\"Function to merge pdf file in a folder\"\"\"\n",
    "    from PyPDF2 import PdfFileMerger\n",
    "    pdfs = [*args]\n",
    "    merger = PdfFileMerger()\n",
    "    for pdf in pdfs:\n",
    "        merger.append(pdf)\n",
    "        merger.write('finalfile.pdf')"
   ]
  },
  {
   "cell_type": "code",
   "execution_count": 12,
   "metadata": {
    "scrolled": true
   },
   "outputs": [],
   "source": [
    "merge_pdf('u.pdf', 'v.pdf', 't.pdf')"
   ]
  },
  {
   "cell_type": "code",
   "execution_count": null,
   "metadata": {},
   "outputs": [],
   "source": []
  }
 ],
 "metadata": {
  "kernelspec": {
   "display_name": "Python 3",
   "language": "python",
   "name": "python3"
  },
  "language_info": {
   "codemirror_mode": {
    "name": "ipython",
    "version": 3
   },
   "file_extension": ".py",
   "mimetype": "text/x-python",
   "name": "python",
   "nbconvert_exporter": "python",
   "pygments_lexer": "ipython3",
   "version": "3.8.8"
  }
 },
 "nbformat": 4,
 "nbformat_minor": 4
}
